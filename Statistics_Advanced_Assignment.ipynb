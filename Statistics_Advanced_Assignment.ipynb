{
  "nbformat": 4,
  "nbformat_minor": 0,
  "metadata": {
    "colab": {
      "provenance": []
    },
    "kernelspec": {
      "name": "python3",
      "display_name": "Python 3"
    },
    "language_info": {
      "name": "python"
    }
  },
  "cells": [
    {
      "cell_type": "markdown",
      "source": [
        "# **Statistics Advanced Assignment**"
      ],
      "metadata": {
        "id": "TTNaYeX7QQjb"
      }
    },
    {
      "cell_type": "markdown",
      "source": [
        "1.**What is a random variable in probability theory?**\n",
        "\n",
        "A **random variable** is a function that assigns a numerical value to each outcome of a random experiment. It represents uncertain outcomes as numbers so we can analyze them mathematically.\n"
      ],
      "metadata": {
        "id": "1HwvNJ0JQUN8"
      }
    },
    {
      "cell_type": "markdown",
      "source": [
        "2.**What are the types of random variables?**\n",
        "\n",
        "  The two types of random variables are:\n",
        "\n",
        "1. **Discrete random variable** – takes countable values (e.g., 0, 1, 2, 3…).\n",
        "2. **Continuous random variable** – takes any value within a range or interval.\n"
      ],
      "metadata": {
        "id": "4UJhluFyQvMZ"
      }
    },
    {
      "cell_type": "markdown",
      "source": [
        "3.**Explain the difference between discrete and continuous distributions. **\n",
        "\n",
        "  A **discrete distribution** describes probabilities for a random variable that takes **countable values** (e.g., number of heads in coin tosses).\n",
        "\n",
        "A **continuous distribution** describes probabilities for a random variable that takes **any value within an interval** (e.g., height or weight), and probabilities are given over ranges, not specific points.\n"
      ],
      "metadata": {
        "id": "E1I_1IjkRLvJ"
      }
    },
    {
      "cell_type": "markdown",
      "source": [
        "4.**What is a binomial distribution, and how is it used in probability?**\n",
        "\n",
        "  A **binomial distribution** models the number of **successes** in a fixed number of **independent trials**, each with the same **probability of success (p)**.\n",
        "\n",
        "It’s used to find the probability of getting a specific number of successes in repeated experiments — for example, the number of heads in 10 coin tosses.\n"
      ],
      "metadata": {
        "id": "R_QfxIKmRc4D"
      }
    },
    {
      "cell_type": "markdown",
      "source": [
        "5.**What is the standard normal distribution, and why is it important? **\n",
        "\n",
        "  The **standard normal distribution** is a **normal distribution** with a **mean of 0** and a **standard deviation of 1**.\n",
        "\n",
        "It’s important because it allows any normal distribution to be **standardized** (converted to *z-scores*), making it easy to compare data and use standard probability tables.\n"
      ],
      "metadata": {
        "id": "pD_q29aFSHxk"
      }
    },
    {
      "cell_type": "markdown",
      "source": [
        "6.**What is the Central Limit Theorem (CLT), and why is it critical in statistics?**\n",
        "\n",
        "  The **Central Limit Theorem (CLT)** states that the **sampling distribution of the sample mean** approaches a **normal distribution** as the sample size increases, regardless of the population’s original distribution.\n",
        "\n",
        "It’s critical because it allows statisticians to use **normal probability methods** for inference (like confidence intervals and hypothesis tests) even when the population is not normal.\n"
      ],
      "metadata": {
        "id": "4rp5M1t1SR7b"
      }
    },
    {
      "cell_type": "markdown",
      "source": [
        "7.**What is the significance of confidence intervals in statistical analysis?**\n",
        "\n",
        "  **Confidence intervals** provide a range of values within which the true population parameter is likely to fall, with a certain level of confidence (e.g., 95%).\n",
        "\n",
        "They show the **precision** and **reliability** of an estimate, rather than just giving a single point value.\n"
      ],
      "metadata": {
        "id": "4UgtLuPgSj22"
      }
    },
    {
      "cell_type": "markdown",
      "source": [
        "8.**What is the concept of expected value in a probability distribution? **\n",
        "\n",
        "  The **expected value** is the **average or mean** value of a random variable, representing the long-run outcome if an experiment is repeated many times.\n",
        "\n",
        "It’s calculated as the **sum (or integral)** of each possible value multiplied by its **probability**.\n"
      ],
      "metadata": {
        "id": "4e7X_pc4SvDv"
      }
    },
    {
      "cell_type": "markdown",
      "source": [
        "9. Write a Python program to generate 1000 random numbers from a normal\n",
        "distribution with mean = 50 and standard deviation = 5. Compute its mean and standard\n",
        "deviation using NumPy, and draw a histogram to visualize the distribution"
      ],
      "metadata": {
        "id": "8y4R40a3S5wg"
      }
    },
    {
      "cell_type": "code",
      "source": [
        "import numpy as np\n",
        "import matplotlib.pyplot as plt\n",
        "\n",
        "# Generate 1000 random numbers from normal distribution\n",
        "mean = 50\n",
        "std_dev = 5\n",
        "data = np.random.normal(mean, std_dev, 1000)\n",
        "\n",
        "# Compute mean and standard deviation\n",
        "calculated_mean = np.mean(data)\n",
        "calculated_std = np.std(data)\n",
        "\n",
        "print(\"Mean:\", calculated_mean)\n",
        "print(\"Standard Deviation:\", calculated_std)\n",
        "\n",
        "# Plot histogram\n",
        "plt.hist(data, bins=30, color='skyblue', edgecolor='black')\n",
        "plt.title(\"Histogram of Normally Distributed Data\")\n",
        "plt.xlabel(\"Value\")\n",
        "plt.ylabel(\"Frequency\")\n",
        "plt.show()\n"
      ],
      "metadata": {
        "colab": {
          "base_uri": "https://localhost:8080/",
          "height": 507
        },
        "id": "_E_sVG0PS_y7",
        "outputId": "0d99bc28-c88d-43ff-ba81-51f395ac35bb"
      },
      "execution_count": 1,
      "outputs": [
        {
          "output_type": "stream",
          "name": "stdout",
          "text": [
            "Mean: 49.79742499357103\n",
            "Standard Deviation: 5.056387722762636\n"
          ]
        },
        {
          "output_type": "display_data",
          "data": {
            "text/plain": [
              "<Figure size 640x480 with 1 Axes>"
            ],
            "image/png": "[encoded data removed]"
          },
          "metadata": {}
        }
      ]
    },
    {
      "cell_type": "markdown",
      "source": [
        "10. You are working as a data analyst for a retail company. The company has\n",
        "collected daily sales data for 2 years and wants you to identify the overall sales trend.\n",
        "daily_sales = [220, 245, 210, 265, 230, 250, 260, 275, 240, 255,\n",
        "235, 260, 245, 250, 225, 270, 265, 255, 250, 260]\n",
        "● Explain how you would apply the Central Limit Theorem to estimate the average sales\n",
        "with a 95% confidence interval.\n",
        "● Write the Python code to compute the mean sales and its confidence interval."
      ],
      "metadata": {
        "id": "1QV3DlQmTZ_q"
      }
    },
    {
      "cell_type": "code",
      "source": [
        "import numpy as np\n",
        "from scipy import stats\n",
        "\n",
        "# Daily sales data\n",
        "daily_sales = [220, 245, 210, 265, 230, 250, 260, 275, 240, 255,\n",
        "               235, 260, 245, 250, 225, 270, 265, 255, 250, 260]\n",
        "\n",
        "# Compute sample mean and standard deviation\n",
        "mean_sales = np.mean(daily_sales)\n",
        "std_sales = np.std(daily_sales, ddof=1)  # ddof=1 for sample standard deviation\n",
        "n = len(daily_sales)\n",
        "\n",
        "# 95% confidence interval using z-score\n",
        "confidence_level = 0.95\n",
        "z_score = stats.norm.ppf(0.975)  # two-tailed\n",
        "\n",
        "margin_of_error = z_score * (std_sales / np.sqrt(n))\n",
        "ci_lower = mean_sales - margin_of_error\n",
        "ci_upper = mean_sales + margin_of_error\n",
        "\n",
        "print(f\"Mean Sales: {mean_sales}\")\n",
        "print(f\"95% Confidence Interval: ({ci_lower:.2f}, {ci_upper:.2f})\")\n"
      ],
      "metadata": {
        "colab": {
          "base_uri": "https://localhost:8080/"
        },
        "id": "9ZgAE4T_TcKD",
        "outputId": "87d6b1ea-0756-47bd-96b9-fe54b709d9ea"
      },
      "execution_count": 2,
      "outputs": [
        {
          "output_type": "stream",
          "name": "stdout",
          "text": [
            "Mean Sales: 248.25\n",
            "95% Confidence Interval: (240.68, 255.82)\n"
          ]
        }
      ]
    },
    {
      "cell_type": "markdown",
      "source": [],
      "metadata": {
        "id": "WC6VWA8fTk4q"
      }
    }
  ]
}